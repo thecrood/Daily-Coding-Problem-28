{
 "cells": [
  {
   "cell_type": "markdown",
   "id": "697956cb",
   "metadata": {},
   "source": [
    "# Daily Coading Problem 28"
   ]
  },
  {
   "cell_type": "raw",
   "id": "1063b19e",
   "metadata": {},
   "source": [
    "This problem was asked by Palantir.\n",
    "\n",
    "Write an algorithm to justify text. Given a sequence of words and an integer line length k, return a list of strings which represents each line, fully justified.\n",
    "\n",
    "More specifically, you should have as many words as possible in each line. There should be at least one space between each word. Pad extra spaces when necessary so that each line has exactly length k. Spaces should be distributed as equally as possible, with the extra spaces, if any, distributed starting from the left.\n",
    "\n",
    "If you can only fit one word on a line, then you should pad the right-hand side with spaces.\n",
    "\n",
    "Each word is guaranteed not to be longer than k.\n",
    "\n",
    "For example, given the list of words [\"the\", \"quick\", \"brown\", \"fox\", \"jumps\", \"over\", \"the\", \"lazy\", \"dog\"] and k = 16, you should return the following:\n",
    "\n",
    "[\"the  quick brown\", # 1 extra space on the left\n",
    "\"fox  jumps  over\", # 2 extra spaces distributed evenly\n",
    "\"the   lazy   dog\"] # 4 extra spaces distributed evenly"
   ]
  },
  {
   "cell_type": "markdown",
   "id": "a166c517",
   "metadata": {},
   "source": [
    "# Solution\n",
    "\n",
    "It seems like the justification algorithm is independent from the groupings, so immediately we should figure out two things:\n",
    "\n",
    " * How to group lines together so that it is as close to k as possible (without going over)\n",
    " * Given a grouping of lines, justifying the text by appropriately distributing spaces\n",
    " \n",
    "To solve the first part, let's write a function group_lines that takes in all the words in our input sequence as well as out target line length k, and return a list of list of words that represents the lines that we will eventually justify. Our main strategy will be to iterate over all the words, keep a list of words for the current line, and because we want to fit as many words as possible per line, estimate the current line length, assuming only one space between each word. Once we go over k, then save the word and start a new line with it. So our function will look something like this:"
   ]
  },
  {
   "cell_type": "code",
   "execution_count": 24,
   "id": "e1dc3bd9",
   "metadata": {},
   "outputs": [
    {
     "name": "stdout",
     "output_type": "stream",
     "text": [
      "[['the', 'quick', 'brown'], ['fox', 'jumps', 'over'], ['the', 'lazy', 'dog']]\n"
     ]
    }
   ],
   "source": [
    "def min_line(words):\n",
    "    return ' '.join(words)\n",
    "\n",
    "def group_lines(words, k):\n",
    "    '''\n",
    "    Returns groupings of |words| whose total length, including 1 space in between,\n",
    "    is less than |k|.\n",
    "    '''\n",
    "    groups = []\n",
    "    current_sum = 0\n",
    "    current_line = []\n",
    "    for i, word in enumerate(words):\n",
    "        # Check if adding the next word would push it over\n",
    "        # the limit. If it does, then add |current_line| to\n",
    "        # group. Also reset |current_line| properly.\n",
    "        if len(min_line(current_line + [word])) > k:\n",
    "            groups.append(current_line)\n",
    "            current_line = []\n",
    "        current_line.append(word)\n",
    "\n",
    "    # Add the last line to groups.\n",
    "    groups.append(current_line)\n",
    "    return groups\n",
    "\n",
    "print(group_lines([\"the\", \"quick\", \"brown\", \"fox\", \"jumps\", \"over\", \"the\", \"lazy\", \"dog\"],16))"
   ]
  },
  {
   "cell_type": "markdown",
   "id": "9801fa33",
   "metadata": {},
   "source": [
    "Then, we'll want to actually justify each line. We know for sure each line we feed from group_lines is the maximum number of words we can pack into a line and no more. What we can do is first figure out how many spaces we have available to distribute between each word. Then from that, we can calculate how much base space we should have between each word by dividing it by the number of words minus one. If there are any leftover spaces to distribute, then we can keep track of that in a counter, and as we rope in each new word we'll add the appropriate number of spaces. We can't add more than one leftover space per word.\n"
   ]
  },
  {
   "cell_type": "code",
   "execution_count": 25,
   "id": "84cdbd8f",
   "metadata": {},
   "outputs": [],
   "source": [
    "import math\n",
    "def justify(words, length):\n",
    "    '''\n",
    "    Precondition: |words| can fit in |length|.\n",
    "    Justifies the words using the following algorithm:\n",
    "        - Find the smallest spacing between each word (available_spaces / spaces)\n",
    "        - Add a leftover space one-by-one until we run out\n",
    "    '''\n",
    "    if len(words) == 1:\n",
    "        word = words[0]\n",
    "        num_spaces = length - len(word)\n",
    "        spaces = ' ' * num_spaces\n",
    "        return word + spaces\n",
    "    spaces_to_distribute = length - sum(len(word) for word in words)\n",
    "    number_of_spaces = len(words) - 1\n",
    "    smallest_space = math.floor(spaces_to_distribute / number_of_spaces)\n",
    "    leftover_spaces = spaces_to_distribute - (number_of_spaces * smallest_space)\n",
    "    justified_words = []\n",
    "    for word in words:\n",
    "        justified_words.append(word)\n",
    "        current_space = ' ' * smallest_space\n",
    "        if leftover_spaces > 0:\n",
    "            current_space += ' '\n",
    "            leftover_spaces -= 1\n",
    "        justified_words.append(current_space)\n",
    "    return ''.join(justified_words).rstrip()\n",
    "#print(justify([\"the\", \"quick\", \"brown\", \"fox\", \"jumps\", \"over\", \"the\", \"lazy\", \"dog\"],16))"
   ]
  },
  {
   "cell_type": "markdown",
   "id": "41116f12",
   "metadata": {},
   "source": [
    "The final solution should just combine our two functions:"
   ]
  },
  {
   "cell_type": "code",
   "execution_count": 26,
   "id": "4cf835fb",
   "metadata": {},
   "outputs": [
    {
     "name": "stdout",
     "output_type": "stream",
     "text": [
      "['the  quick brown', 'fox  jumps  over', 'the   lazy   dog']\n"
     ]
    }
   ],
   "source": [
    "def justify_text(words, k):\n",
    "    return [justify(group, k) for group in group_lines(words, k)]\n",
    "\n",
    "print(justify_text([\"the\", \"quick\", \"brown\", \"fox\", \"jumps\", \"over\", \"the\", \"lazy\", \"dog\"],16))"
   ]
  },
  {
   "cell_type": "code",
   "execution_count": null,
   "id": "431ac475",
   "metadata": {},
   "outputs": [],
   "source": []
  },
  {
   "cell_type": "code",
   "execution_count": null,
   "id": "a1473f24",
   "metadata": {},
   "outputs": [],
   "source": []
  }
 ],
 "metadata": {
  "kernelspec": {
   "display_name": "Python 3 (ipykernel)",
   "language": "python",
   "name": "python3"
  },
  "language_info": {
   "codemirror_mode": {
    "name": "ipython",
    "version": 3
   },
   "file_extension": ".py",
   "mimetype": "text/x-python",
   "name": "python",
   "nbconvert_exporter": "python",
   "pygments_lexer": "ipython3",
   "version": "3.8.10"
  }
 },
 "nbformat": 4,
 "nbformat_minor": 5
}
